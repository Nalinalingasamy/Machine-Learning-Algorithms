{
 "cells": [
  {
   "cell_type": "code",
   "execution_count": 1,
   "id": "efcf475c",
   "metadata": {},
   "outputs": [],
   "source": [
    "#FINALPROJECT-->1\n",
    "import pandas as pd\n",
    "from sklearn import linear_model\n",
    "import warnings\n",
    "warnings.filterwarnings(\"ignore\")"
   ]
  },
  {
   "cell_type": "markdown",
   "id": "5c9efa4e",
   "metadata": {},
   "source": [
    "Below is the table containing the information of Customer price index, discounts, offers where the organization\n",
    "wants to predict the sales based on the cpi, discounts,offers.\n",
    "\n",
    "Given below information find out the Sales that has\n",
    "\n",
    "5000 cpi , 3 percentage discounts, 20 rewards offers\n",
    "\n",
    "4000 cpi , 8 percentage discounts, 19 rewards offers"
   ]
  },
  {
   "cell_type": "code",
   "execution_count": 4,
   "id": "f41f8b8d",
   "metadata": {},
   "outputs": [
    {
     "data": {
      "text/html": [
       "<div>\n",
       "<style scoped>\n",
       "    .dataframe tbody tr th:only-of-type {\n",
       "        vertical-align: middle;\n",
       "    }\n",
       "\n",
       "    .dataframe tbody tr th {\n",
       "        vertical-align: top;\n",
       "    }\n",
       "\n",
       "    .dataframe thead th {\n",
       "        text-align: right;\n",
       "    }\n",
       "</style>\n",
       "<table border=\"1\" class=\"dataframe\">\n",
       "  <thead>\n",
       "    <tr style=\"text-align: right;\">\n",
       "      <th></th>\n",
       "      <th>CPI</th>\n",
       "      <th>discounts</th>\n",
       "      <th>offers</th>\n",
       "      <th>Sales</th>\n",
       "    </tr>\n",
       "  </thead>\n",
       "  <tbody>\n",
       "    <tr>\n",
       "      <th>0</th>\n",
       "      <td>2600</td>\n",
       "      <td>3</td>\n",
       "      <td>20</td>\n",
       "      <td>550000</td>\n",
       "    </tr>\n",
       "    <tr>\n",
       "      <th>1</th>\n",
       "      <td>3000</td>\n",
       "      <td>4</td>\n",
       "      <td>15</td>\n",
       "      <td>565000</td>\n",
       "    </tr>\n",
       "    <tr>\n",
       "      <th>2</th>\n",
       "      <td>3200</td>\n",
       "      <td>5</td>\n",
       "      <td>18</td>\n",
       "      <td>610000</td>\n",
       "    </tr>\n",
       "    <tr>\n",
       "      <th>3</th>\n",
       "      <td>3600</td>\n",
       "      <td>3</td>\n",
       "      <td>30</td>\n",
       "      <td>595000</td>\n",
       "    </tr>\n",
       "    <tr>\n",
       "      <th>4</th>\n",
       "      <td>4000</td>\n",
       "      <td>5</td>\n",
       "      <td>8</td>\n",
       "      <td>760000</td>\n",
       "    </tr>\n",
       "    <tr>\n",
       "      <th>5</th>\n",
       "      <td>4100</td>\n",
       "      <td>6</td>\n",
       "      <td>8</td>\n",
       "      <td>810000</td>\n",
       "    </tr>\n",
       "  </tbody>\n",
       "</table>\n",
       "</div>"
      ],
      "text/plain": [
       "    CPI  discounts  offers   Sales\n",
       "0  2600          3      20  550000\n",
       "1  3000          4      15  565000\n",
       "2  3200          5      18  610000\n",
       "3  3600          3      30  595000\n",
       "4  4000          5       8  760000\n",
       "5  4100          6       8  810000"
      ]
     },
     "execution_count": 4,
     "metadata": {},
     "output_type": "execute_result"
    }
   ],
   "source": [
    "df = pd.read_excel(\"Data set.xlsx\")\n",
    "df\n",
    "#1 dependent and 3 independent variables --> multiple linear regression(PREDICTION)"
   ]
  },
  {
   "cell_type": "code",
   "execution_count": 4,
   "id": "5605fbad",
   "metadata": {},
   "outputs": [
    {
     "data": {
      "text/plain": [
       "Index(['CPI', 'discounts', 'offers', 'Sales'], dtype='object')"
      ]
     },
     "execution_count": 4,
     "metadata": {},
     "output_type": "execute_result"
    }
   ],
   "source": [
    "df.columns"
   ]
  },
  {
   "cell_type": "code",
   "execution_count": 5,
   "id": "3fbe1e43",
   "metadata": {},
   "outputs": [
    {
     "data": {
      "text/html": [
       "<div>\n",
       "<style scoped>\n",
       "    .dataframe tbody tr th:only-of-type {\n",
       "        vertical-align: middle;\n",
       "    }\n",
       "\n",
       "    .dataframe tbody tr th {\n",
       "        vertical-align: top;\n",
       "    }\n",
       "\n",
       "    .dataframe thead th {\n",
       "        text-align: right;\n",
       "    }\n",
       "</style>\n",
       "<table border=\"1\" class=\"dataframe\">\n",
       "  <thead>\n",
       "    <tr style=\"text-align: right;\">\n",
       "      <th></th>\n",
       "      <th>CPI</th>\n",
       "      <th>discounts</th>\n",
       "      <th>offers</th>\n",
       "    </tr>\n",
       "  </thead>\n",
       "  <tbody>\n",
       "    <tr>\n",
       "      <th>0</th>\n",
       "      <td>2600</td>\n",
       "      <td>3</td>\n",
       "      <td>20</td>\n",
       "    </tr>\n",
       "    <tr>\n",
       "      <th>1</th>\n",
       "      <td>3000</td>\n",
       "      <td>4</td>\n",
       "      <td>15</td>\n",
       "    </tr>\n",
       "    <tr>\n",
       "      <th>2</th>\n",
       "      <td>3200</td>\n",
       "      <td>5</td>\n",
       "      <td>18</td>\n",
       "    </tr>\n",
       "    <tr>\n",
       "      <th>3</th>\n",
       "      <td>3600</td>\n",
       "      <td>3</td>\n",
       "      <td>30</td>\n",
       "    </tr>\n",
       "    <tr>\n",
       "      <th>4</th>\n",
       "      <td>4000</td>\n",
       "      <td>5</td>\n",
       "      <td>8</td>\n",
       "    </tr>\n",
       "    <tr>\n",
       "      <th>5</th>\n",
       "      <td>4100</td>\n",
       "      <td>6</td>\n",
       "      <td>8</td>\n",
       "    </tr>\n",
       "  </tbody>\n",
       "</table>\n",
       "</div>"
      ],
      "text/plain": [
       "    CPI  discounts  offers\n",
       "0  2600          3      20\n",
       "1  3000          4      15\n",
       "2  3200          5      18\n",
       "3  3600          3      30\n",
       "4  4000          5       8\n",
       "5  4100          6       8"
      ]
     },
     "execution_count": 5,
     "metadata": {},
     "output_type": "execute_result"
    }
   ],
   "source": [
    "#x = CPI,discounts,offers\n",
    "x = df[['CPI', 'discounts', 'offers']]\n",
    "x"
   ]
  },
  {
   "cell_type": "code",
   "execution_count": 6,
   "id": "ed828210",
   "metadata": {},
   "outputs": [
    {
     "data": {
      "text/html": [
       "<div>\n",
       "<style scoped>\n",
       "    .dataframe tbody tr th:only-of-type {\n",
       "        vertical-align: middle;\n",
       "    }\n",
       "\n",
       "    .dataframe tbody tr th {\n",
       "        vertical-align: top;\n",
       "    }\n",
       "\n",
       "    .dataframe thead th {\n",
       "        text-align: right;\n",
       "    }\n",
       "</style>\n",
       "<table border=\"1\" class=\"dataframe\">\n",
       "  <thead>\n",
       "    <tr style=\"text-align: right;\">\n",
       "      <th></th>\n",
       "      <th>CPI</th>\n",
       "      <th>discounts</th>\n",
       "      <th>offers</th>\n",
       "    </tr>\n",
       "  </thead>\n",
       "  <tbody>\n",
       "    <tr>\n",
       "      <th>CPI</th>\n",
       "      <td>1.000000</td>\n",
       "      <td>0.664772</td>\n",
       "      <td>-0.445300</td>\n",
       "    </tr>\n",
       "    <tr>\n",
       "      <th>discounts</th>\n",
       "      <td>0.664772</td>\n",
       "      <td>1.000000</td>\n",
       "      <td>-0.816902</td>\n",
       "    </tr>\n",
       "    <tr>\n",
       "      <th>offers</th>\n",
       "      <td>-0.445300</td>\n",
       "      <td>-0.816902</td>\n",
       "      <td>1.000000</td>\n",
       "    </tr>\n",
       "  </tbody>\n",
       "</table>\n",
       "</div>"
      ],
      "text/plain": [
       "                CPI  discounts    offers\n",
       "CPI        1.000000   0.664772 -0.445300\n",
       "discounts  0.664772   1.000000 -0.816902\n",
       "offers    -0.445300  -0.816902  1.000000"
      ]
     },
     "execution_count": 6,
     "metadata": {},
     "output_type": "execute_result"
    }
   ],
   "source": [
    "x.corr()"
   ]
  },
  {
   "cell_type": "code",
   "execution_count": 7,
   "id": "8d804277",
   "metadata": {},
   "outputs": [
    {
     "data": {
      "text/plain": [
       "0    550000\n",
       "1    565000\n",
       "2    610000\n",
       "3    595000\n",
       "4    760000\n",
       "5    810000\n",
       "Name: Sales, dtype: int64"
      ]
     },
     "execution_count": 7,
     "metadata": {},
     "output_type": "execute_result"
    }
   ],
   "source": [
    "#y = sales\n",
    "y = df[\"Sales\"]\n",
    "y"
   ]
  },
  {
   "cell_type": "code",
   "execution_count": 8,
   "id": "245b10f1",
   "metadata": {},
   "outputs": [
    {
     "data": {
      "text/html": [
       "<style>#sk-container-id-1 {color: black;}#sk-container-id-1 pre{padding: 0;}#sk-container-id-1 div.sk-toggleable {background-color: white;}#sk-container-id-1 label.sk-toggleable__label {cursor: pointer;display: block;width: 100%;margin-bottom: 0;padding: 0.3em;box-sizing: border-box;text-align: center;}#sk-container-id-1 label.sk-toggleable__label-arrow:before {content: \"▸\";float: left;margin-right: 0.25em;color: #696969;}#sk-container-id-1 label.sk-toggleable__label-arrow:hover:before {color: black;}#sk-container-id-1 div.sk-estimator:hover label.sk-toggleable__label-arrow:before {color: black;}#sk-container-id-1 div.sk-toggleable__content {max-height: 0;max-width: 0;overflow: hidden;text-align: left;background-color: #f0f8ff;}#sk-container-id-1 div.sk-toggleable__content pre {margin: 0.2em;color: black;border-radius: 0.25em;background-color: #f0f8ff;}#sk-container-id-1 input.sk-toggleable__control:checked~div.sk-toggleable__content {max-height: 200px;max-width: 100%;overflow: auto;}#sk-container-id-1 input.sk-toggleable__control:checked~label.sk-toggleable__label-arrow:before {content: \"▾\";}#sk-container-id-1 div.sk-estimator input.sk-toggleable__control:checked~label.sk-toggleable__label {background-color: #d4ebff;}#sk-container-id-1 div.sk-label input.sk-toggleable__control:checked~label.sk-toggleable__label {background-color: #d4ebff;}#sk-container-id-1 input.sk-hidden--visually {border: 0;clip: rect(1px 1px 1px 1px);clip: rect(1px, 1px, 1px, 1px);height: 1px;margin: -1px;overflow: hidden;padding: 0;position: absolute;width: 1px;}#sk-container-id-1 div.sk-estimator {font-family: monospace;background-color: #f0f8ff;border: 1px dotted black;border-radius: 0.25em;box-sizing: border-box;margin-bottom: 0.5em;}#sk-container-id-1 div.sk-estimator:hover {background-color: #d4ebff;}#sk-container-id-1 div.sk-parallel-item::after {content: \"\";width: 100%;border-bottom: 1px solid gray;flex-grow: 1;}#sk-container-id-1 div.sk-label:hover label.sk-toggleable__label {background-color: #d4ebff;}#sk-container-id-1 div.sk-serial::before {content: \"\";position: absolute;border-left: 1px solid gray;box-sizing: border-box;top: 0;bottom: 0;left: 50%;z-index: 0;}#sk-container-id-1 div.sk-serial {display: flex;flex-direction: column;align-items: center;background-color: white;padding-right: 0.2em;padding-left: 0.2em;position: relative;}#sk-container-id-1 div.sk-item {position: relative;z-index: 1;}#sk-container-id-1 div.sk-parallel {display: flex;align-items: stretch;justify-content: center;background-color: white;position: relative;}#sk-container-id-1 div.sk-item::before, #sk-container-id-1 div.sk-parallel-item::before {content: \"\";position: absolute;border-left: 1px solid gray;box-sizing: border-box;top: 0;bottom: 0;left: 50%;z-index: -1;}#sk-container-id-1 div.sk-parallel-item {display: flex;flex-direction: column;z-index: 1;position: relative;background-color: white;}#sk-container-id-1 div.sk-parallel-item:first-child::after {align-self: flex-end;width: 50%;}#sk-container-id-1 div.sk-parallel-item:last-child::after {align-self: flex-start;width: 50%;}#sk-container-id-1 div.sk-parallel-item:only-child::after {width: 0;}#sk-container-id-1 div.sk-dashed-wrapped {border: 1px dashed gray;margin: 0 0.4em 0.5em 0.4em;box-sizing: border-box;padding-bottom: 0.4em;background-color: white;}#sk-container-id-1 div.sk-label label {font-family: monospace;font-weight: bold;display: inline-block;line-height: 1.2em;}#sk-container-id-1 div.sk-label-container {text-align: center;}#sk-container-id-1 div.sk-container {/* jupyter's `normalize.less` sets `[hidden] { display: none; }` but bootstrap.min.css set `[hidden] { display: none !important; }` so we also need the `!important` here to be able to override the default hidden behavior on the sphinx rendered scikit-learn.org. See: https://github.com/scikit-learn/scikit-learn/issues/21755 */display: inline-block !important;position: relative;}#sk-container-id-1 div.sk-text-repr-fallback {display: none;}</style><div id=\"sk-container-id-1\" class=\"sk-top-container\"><div class=\"sk-text-repr-fallback\"><pre>LinearRegression()</pre><b>In a Jupyter environment, please rerun this cell to show the HTML representation or trust the notebook. <br />On GitHub, the HTML representation is unable to render, please try loading this page with nbviewer.org.</b></div><div class=\"sk-container\" hidden><div class=\"sk-item\"><div class=\"sk-estimator sk-toggleable\"><input class=\"sk-toggleable__control sk-hidden--visually\" id=\"sk-estimator-id-1\" type=\"checkbox\" checked><label for=\"sk-estimator-id-1\" class=\"sk-toggleable__label sk-toggleable__label-arrow\">LinearRegression</label><div class=\"sk-toggleable__content\"><pre>LinearRegression()</pre></div></div></div></div></div>"
      ],
      "text/plain": [
       "LinearRegression()"
      ]
     },
     "execution_count": 8,
     "metadata": {},
     "output_type": "execute_result"
    }
   ],
   "source": [
    "#LINEAR MODEL\n",
    "reg = linear_model.LinearRegression()\n",
    "reg.fit(x,y) #fitting the model"
   ]
  },
  {
   "cell_type": "code",
   "execution_count": 9,
   "id": "da47e3e0",
   "metadata": {},
   "outputs": [
    {
     "data": {
      "text/plain": [
       "array([  128.43512778,  5913.51964731, -4902.54602054])"
      ]
     },
     "execution_count": 9,
     "metadata": {},
     "output_type": "execute_result"
    }
   ],
   "source": [
    "#finding co_efficient\n",
    "reg.coef_"
   ]
  },
  {
   "cell_type": "code",
   "execution_count": 10,
   "id": "444cb7c9",
   "metadata": {},
   "outputs": [
    {
     "data": {
      "text/plain": [
       "264780.07095467113"
      ]
     },
     "execution_count": 10,
     "metadata": {},
     "output_type": "execute_result"
    }
   ],
   "source": [
    "#finding intercept\n",
    "reg.intercept_"
   ]
  },
  {
   "cell_type": "code",
   "execution_count": 11,
   "id": "c6cb22b4",
   "metadata": {},
   "outputs": [
    {
     "data": {
      "text/plain": [
       "array([826645.34838222])"
      ]
     },
     "execution_count": 11,
     "metadata": {},
     "output_type": "execute_result"
    }
   ],
   "source": [
    "#5000 cpi , 3 percentage discounts, 20 rewards offers\n",
    "reg.predict([[5000,3,20]]) #predicting the values"
   ]
  },
  {
   "cell_type": "code",
   "execution_count": 12,
   "id": "68c2a356",
   "metadata": {},
   "outputs": [
    {
     "data": {
      "text/plain": [
       "array([732680.36486005])"
      ]
     },
     "execution_count": 12,
     "metadata": {},
     "output_type": "execute_result"
    }
   ],
   "source": [
    "# 4000 cpi , 8 percentage discounts, 19 rewards offers\n",
    "reg.predict([[4000,8,19]])"
   ]
  },
  {
   "cell_type": "code",
   "execution_count": 18,
   "id": "3b519527",
   "metadata": {},
   "outputs": [
    {
     "name": "stdout",
     "output_type": "stream",
     "text": [
      "                            OLS Regression Results                            \n",
      "==============================================================================\n",
      "Dep. Variable:                  Sales   R-squared:                       0.952\n",
      "Model:                            OLS   Adj. R-squared:                  0.879\n",
      "Method:                 Least Squares   F-statistic:                     13.14\n",
      "Date:                Sun, 14 Jan 2024   Prob (F-statistic):             0.0716\n",
      "Time:                        18:02:35   Log-Likelihood:                -68.476\n",
      "No. Observations:                   6   AIC:                             145.0\n",
      "Df Residuals:                       2   BIC:                             144.1\n",
      "Df Model:                           3                                         \n",
      "Covariance Type:            nonrobust                                         \n",
      "==============================================================================\n",
      "                 coef    std err          t      P>|t|      [0.025      0.975]\n",
      "------------------------------------------------------------------------------\n",
      "Intercept   2.648e+05   1.64e+05      1.613      0.248   -4.41e+05    9.71e+05\n",
      "CPI          128.4351     39.639      3.240      0.083     -42.120     298.990\n",
      "discounts   5913.5196   2.99e+04      0.198      0.861   -1.23e+05    1.34e+05\n",
      "offers     -4902.5460   3641.815     -1.346      0.311   -2.06e+04    1.08e+04\n",
      "==============================================================================\n",
      "Omnibus:                          nan   Durbin-Watson:                   2.185\n",
      "Prob(Omnibus):                    nan   Jarque-Bera (JB):                0.238\n",
      "Skew:                          -0.031   Prob(JB):                        0.888\n",
      "Kurtosis:                       2.026   Cond. No.                     3.69e+04\n",
      "==============================================================================\n",
      "\n",
      "Notes:\n",
      "[1] Standard Errors assume that the covariance matrix of the errors is correctly specified.\n",
      "[2] The condition number is large, 3.69e+04. This might indicate that there are\n",
      "strong multicollinearity or other numerical problems.\n"
     ]
    },
    {
     "name": "stderr",
     "output_type": "stream",
     "text": [
      "C:\\ProgramData\\anaconda3\\Lib\\site-packages\\statsmodels\\stats\\stattools.py:74: ValueWarning: omni_normtest is not valid with less than 8 observations; 6 samples were given.\n",
      "  warn(\"omni_normtest is not valid with less than 8 observations; %i \"\n"
     ]
    }
   ],
   "source": [
    "#STATSMODEL\n",
    "import statsmodels.api as sm\n",
    "import statsmodels.formula.api as smf\n",
    "model1 = smf.ols(formula=\"Sales ~ CPI+discounts+offers\", data=df)\n",
    "res = model1.fit()\n",
    "print(res.summary())\n",
    "#manually predict the values by substituting co-eff and intercept in formula"
   ]
  },
  {
   "cell_type": "code",
   "execution_count": 19,
   "id": "8de4aae6",
   "metadata": {},
   "outputs": [
    {
     "data": {
      "text/plain": [
       "826645.2097546711"
      ]
     },
     "execution_count": 19,
     "metadata": {},
     "output_type": "execute_result"
    }
   ],
   "source": [
    "#manual calculation\n",
    "#intercept+m1*x1+m2*x2+m3*x3\n",
    "#5000 cpi , 3 percentage discounts, 20 rewards offers\n",
    "264780.07095467113+(128.4351*5000)+(5913.5196*3)+(-4902.5460*20)"
   ]
  },
  {
   "cell_type": "code",
   "execution_count": 20,
   "id": "a0c8753f",
   "metadata": {},
   "outputs": [
    {
     "data": {
      "text/plain": [
       "732680.2537546712"
      ]
     },
     "execution_count": 20,
     "metadata": {},
     "output_type": "execute_result"
    }
   ],
   "source": [
    "# 4000 cpi , 8 percentage discounts, 19 rewards offers\n",
    "264780.07095467113+(128.4351*4000)+(5913.5196*8)+(-4902.5460*19)"
   ]
  },
  {
   "cell_type": "markdown",
   "id": "a66ea4f0",
   "metadata": {},
   "source": [
    "###  FINALPROJECT-->2\n",
    "2.Below table contains the bank details of customer – need to predict the how we can offer loan to customer based\n",
    "  on the cybill score, Age, insurance, debit card , cards."
   ]
  },
  {
   "cell_type": "code",
   "execution_count": 3,
   "id": "1a560bf0",
   "metadata": {},
   "outputs": [
    {
     "data": {
      "text/html": [
       "<div>\n",
       "<style scoped>\n",
       "    .dataframe tbody tr th:only-of-type {\n",
       "        vertical-align: middle;\n",
       "    }\n",
       "\n",
       "    .dataframe tbody tr th {\n",
       "        vertical-align: top;\n",
       "    }\n",
       "\n",
       "    .dataframe thead th {\n",
       "        text-align: right;\n",
       "    }\n",
       "</style>\n",
       "<table border=\"1\" class=\"dataframe\">\n",
       "  <thead>\n",
       "    <tr style=\"text-align: right;\">\n",
       "      <th></th>\n",
       "      <th>Cutomer id</th>\n",
       "      <th>Cards</th>\n",
       "      <th>Debit card</th>\n",
       "      <th>Insurance</th>\n",
       "      <th>Age</th>\n",
       "      <th>Cibil Score</th>\n",
       "      <th>Loan offer</th>\n",
       "    </tr>\n",
       "  </thead>\n",
       "  <tbody>\n",
       "    <tr>\n",
       "      <th>0</th>\n",
       "      <td>5</td>\n",
       "      <td>0.0</td>\n",
       "      <td>1.0</td>\n",
       "      <td>0.0</td>\n",
       "      <td>50.0</td>\n",
       "      <td>34.940</td>\n",
       "      <td>0</td>\n",
       "    </tr>\n",
       "    <tr>\n",
       "      <th>1</th>\n",
       "      <td>3</td>\n",
       "      <td>1.0</td>\n",
       "      <td>0.0</td>\n",
       "      <td>0.0</td>\n",
       "      <td>18.0</td>\n",
       "      <td>0.891</td>\n",
       "      <td>1</td>\n",
       "    </tr>\n",
       "    <tr>\n",
       "      <th>2</th>\n",
       "      <td>66</td>\n",
       "      <td>0.0</td>\n",
       "      <td>1.0</td>\n",
       "      <td>0.0</td>\n",
       "      <td>5.0</td>\n",
       "      <td>0.330</td>\n",
       "      <td>1</td>\n",
       "    </tr>\n",
       "    <tr>\n",
       "      <th>3</th>\n",
       "      <td>70</td>\n",
       "      <td>0.0</td>\n",
       "      <td>1.0</td>\n",
       "      <td>1.0</td>\n",
       "      <td>31.0</td>\n",
       "      <td>0.037</td>\n",
       "      <td>0</td>\n",
       "    </tr>\n",
       "    <tr>\n",
       "      <th>4</th>\n",
       "      <td>96</td>\n",
       "      <td>0.0</td>\n",
       "      <td>1.0</td>\n",
       "      <td>0.0</td>\n",
       "      <td>30.0</td>\n",
       "      <td>0.038</td>\n",
       "      <td>1</td>\n",
       "    </tr>\n",
       "  </tbody>\n",
       "</table>\n",
       "</div>"
      ],
      "text/plain": [
       "   Cutomer id  Cards  Debit card  Insurance   Age  Cibil Score  Loan offer\n",
       "0           5    0.0         1.0        0.0  50.0       34.940           0\n",
       "1           3    1.0         0.0        0.0  18.0        0.891           1\n",
       "2          66    0.0         1.0        0.0   5.0        0.330           1\n",
       "3          70    0.0         1.0        1.0  31.0        0.037           0\n",
       "4          96    0.0         1.0        0.0  30.0        0.038           1"
      ]
     },
     "execution_count": 3,
     "metadata": {},
     "output_type": "execute_result"
    }
   ],
   "source": [
    "data = pd.read_excel(\"finalpro_2_data.xlsx\")\n",
    "data.head()"
   ]
  },
  {
   "cell_type": "code",
   "execution_count": 4,
   "id": "b6905890",
   "metadata": {},
   "outputs": [
    {
     "data": {
      "text/plain": [
       "Index(['Cutomer id', 'Cards', 'Debit card', 'Insurance', 'Age', 'Cibil Score',\n",
       "       'Loan offer'],\n",
       "      dtype='object')"
      ]
     },
     "execution_count": 4,
     "metadata": {},
     "output_type": "execute_result"
    }
   ],
   "source": [
    "data.columns"
   ]
  },
  {
   "cell_type": "code",
   "execution_count": 5,
   "id": "a4b455aa",
   "metadata": {},
   "outputs": [
    {
     "data": {
      "text/plain": [
       "Cutomer id       0\n",
       "Cards           12\n",
       "Debit card      41\n",
       "Insurance       48\n",
       "Age            189\n",
       "Cibil Score      0\n",
       "Loan offer       0\n",
       "dtype: int64"
      ]
     },
     "execution_count": 5,
     "metadata": {},
     "output_type": "execute_result"
    }
   ],
   "source": [
    "data.isnull().sum()"
   ]
  },
  {
   "cell_type": "code",
   "execution_count": 6,
   "id": "c00d7dba",
   "metadata": {},
   "outputs": [
    {
     "data": {
      "text/plain": [
       "Cutomer id      0.000000\n",
       "Cards           0.895522\n",
       "Debit card      3.059701\n",
       "Insurance       3.582090\n",
       "Age            14.104478\n",
       "Cibil Score     0.000000\n",
       "Loan offer      0.000000\n",
       "dtype: float64"
      ]
     },
     "execution_count": 6,
     "metadata": {},
     "output_type": "execute_result"
    }
   ],
   "source": [
    "data1 = (data.isnull().sum()/len(data))*100\n",
    "data1"
   ]
  },
  {
   "cell_type": "code",
   "execution_count": 7,
   "id": "17a65574",
   "metadata": {},
   "outputs": [
    {
     "data": {
      "text/plain": [
       "<Axes: xlabel='Age', ylabel='Density'>"
      ]
     },
     "execution_count": 7,
     "metadata": {},
     "output_type": "execute_result"
    },
    {
     "data": {
      "image/png": "[encoded data removed]",
      "text/plain": [
       "<Figure size 640x480 with 1 Axes>"
      ]
     },
     "metadata": {},
     "output_type": "display_data"
    }
   ],
   "source": [
    "import seaborn as sns\n",
    "sns.distplot(data[\"Age\"])"
   ]
  },
  {
   "cell_type": "code",
   "execution_count": 8,
   "id": "1075ede6",
   "metadata": {},
   "outputs": [],
   "source": [
    "#null value treatment --> filling mean(age)\n",
    "data[\"Age\"]= data[\"Age\"].fillna(data[\"Age\"].mode()[0])"
   ]
  },
  {
   "cell_type": "code",
   "execution_count": 9,
   "id": "2b8a44ef",
   "metadata": {},
   "outputs": [],
   "source": [
    "#filling mode\n",
    "data[\"Insurance\"] = data[\"Insurance\"].fillna(data[\"Insurance\"].mode()[0])"
   ]
  },
  {
   "cell_type": "code",
   "execution_count": 10,
   "id": "95d7e1e5",
   "metadata": {},
   "outputs": [],
   "source": [
    "#filling mode(Debit card)\n",
    "data[\"Debit card\"] = data[\"Debit card\"].fillna(data[\"Debit card\"].mode()[0])"
   ]
  },
  {
   "cell_type": "code",
   "execution_count": 11,
   "id": "a12a7e1f",
   "metadata": {},
   "outputs": [],
   "source": [
    "#filling \n",
    "data[\"Cards\"] = data[\"Cards\"].bfill()"
   ]
  },
  {
   "cell_type": "code",
   "execution_count": 12,
   "id": "d11e7ecd",
   "metadata": {},
   "outputs": [
    {
     "data": {
      "text/plain": [
       "Cutomer id     0\n",
       "Cards          0\n",
       "Debit card     0\n",
       "Insurance      0\n",
       "Age            0\n",
       "Cibil Score    0\n",
       "Loan offer     0\n",
       "dtype: int64"
      ]
     },
     "execution_count": 12,
     "metadata": {},
     "output_type": "execute_result"
    }
   ],
   "source": [
    "data.isnull().sum()"
   ]
  },
  {
   "cell_type": "code",
   "execution_count": 13,
   "id": "39a7f7fb",
   "metadata": {},
   "outputs": [
    {
     "data": {
      "text/html": [
       "<div>\n",
       "<style scoped>\n",
       "    .dataframe tbody tr th:only-of-type {\n",
       "        vertical-align: middle;\n",
       "    }\n",
       "\n",
       "    .dataframe tbody tr th {\n",
       "        vertical-align: top;\n",
       "    }\n",
       "\n",
       "    .dataframe thead th {\n",
       "        text-align: right;\n",
       "    }\n",
       "</style>\n",
       "<table border=\"1\" class=\"dataframe\">\n",
       "  <thead>\n",
       "    <tr style=\"text-align: right;\">\n",
       "      <th></th>\n",
       "      <th>Cutomer id</th>\n",
       "      <th>Cards</th>\n",
       "      <th>Debit card</th>\n",
       "      <th>Insurance</th>\n",
       "      <th>Age</th>\n",
       "      <th>Cibil Score</th>\n",
       "      <th>Loan offer</th>\n",
       "    </tr>\n",
       "  </thead>\n",
       "  <tbody>\n",
       "    <tr>\n",
       "      <th>Cutomer id</th>\n",
       "      <td>1.000000</td>\n",
       "      <td>0.027025</td>\n",
       "      <td>0.042214</td>\n",
       "      <td>-0.009150</td>\n",
       "      <td>-0.003003</td>\n",
       "      <td>-0.049590</td>\n",
       "      <td>0.011717</td>\n",
       "    </tr>\n",
       "    <tr>\n",
       "      <th>Cards</th>\n",
       "      <td>0.027025</td>\n",
       "      <td>1.000000</td>\n",
       "      <td>0.064525</td>\n",
       "      <td>-0.015735</td>\n",
       "      <td>-0.013066</td>\n",
       "      <td>-0.027607</td>\n",
       "      <td>0.077924</td>\n",
       "    </tr>\n",
       "    <tr>\n",
       "      <th>Debit card</th>\n",
       "      <td>0.042214</td>\n",
       "      <td>0.064525</td>\n",
       "      <td>1.000000</td>\n",
       "      <td>0.019953</td>\n",
       "      <td>0.030389</td>\n",
       "      <td>0.004641</td>\n",
       "      <td>0.076631</td>\n",
       "    </tr>\n",
       "    <tr>\n",
       "      <th>Insurance</th>\n",
       "      <td>-0.009150</td>\n",
       "      <td>-0.015735</td>\n",
       "      <td>0.019953</td>\n",
       "      <td>1.000000</td>\n",
       "      <td>-0.018020</td>\n",
       "      <td>0.111879</td>\n",
       "      <td>-0.055848</td>\n",
       "    </tr>\n",
       "    <tr>\n",
       "      <th>Age</th>\n",
       "      <td>-0.003003</td>\n",
       "      <td>-0.013066</td>\n",
       "      <td>0.030389</td>\n",
       "      <td>-0.018020</td>\n",
       "      <td>1.000000</td>\n",
       "      <td>0.051575</td>\n",
       "      <td>-0.016396</td>\n",
       "    </tr>\n",
       "    <tr>\n",
       "      <th>Cibil Score</th>\n",
       "      <td>-0.049590</td>\n",
       "      <td>-0.027607</td>\n",
       "      <td>0.004641</td>\n",
       "      <td>0.111879</td>\n",
       "      <td>0.051575</td>\n",
       "      <td>1.000000</td>\n",
       "      <td>-0.219715</td>\n",
       "    </tr>\n",
       "    <tr>\n",
       "      <th>Loan offer</th>\n",
       "      <td>0.011717</td>\n",
       "      <td>0.077924</td>\n",
       "      <td>0.076631</td>\n",
       "      <td>-0.055848</td>\n",
       "      <td>-0.016396</td>\n",
       "      <td>-0.219715</td>\n",
       "      <td>1.000000</td>\n",
       "    </tr>\n",
       "  </tbody>\n",
       "</table>\n",
       "</div>"
      ],
      "text/plain": [
       "             Cutomer id     Cards  Debit card  Insurance       Age  \\\n",
       "Cutomer id     1.000000  0.027025    0.042214  -0.009150 -0.003003   \n",
       "Cards          0.027025  1.000000    0.064525  -0.015735 -0.013066   \n",
       "Debit card     0.042214  0.064525    1.000000   0.019953  0.030389   \n",
       "Insurance     -0.009150 -0.015735    0.019953   1.000000 -0.018020   \n",
       "Age           -0.003003 -0.013066    0.030389  -0.018020  1.000000   \n",
       "Cibil Score   -0.049590 -0.027607    0.004641   0.111879  0.051575   \n",
       "Loan offer     0.011717  0.077924    0.076631  -0.055848 -0.016396   \n",
       "\n",
       "             Cibil Score  Loan offer  \n",
       "Cutomer id     -0.049590    0.011717  \n",
       "Cards          -0.027607    0.077924  \n",
       "Debit card      0.004641    0.076631  \n",
       "Insurance       0.111879   -0.055848  \n",
       "Age             0.051575   -0.016396  \n",
       "Cibil Score     1.000000   -0.219715  \n",
       "Loan offer     -0.219715    1.000000  "
      ]
     },
     "execution_count": 13,
     "metadata": {},
     "output_type": "execute_result"
    }
   ],
   "source": [
    "data.corr()"
   ]
  },
  {
   "cell_type": "code",
   "execution_count": 15,
   "id": "b4fedda8",
   "metadata": {},
   "outputs": [
    {
     "data": {
      "text/html": [
       "<div>\n",
       "<style scoped>\n",
       "    .dataframe tbody tr th:only-of-type {\n",
       "        vertical-align: middle;\n",
       "    }\n",
       "\n",
       "    .dataframe tbody tr th {\n",
       "        vertical-align: top;\n",
       "    }\n",
       "\n",
       "    .dataframe thead th {\n",
       "        text-align: right;\n",
       "    }\n",
       "</style>\n",
       "<table border=\"1\" class=\"dataframe\">\n",
       "  <thead>\n",
       "    <tr style=\"text-align: right;\">\n",
       "      <th></th>\n",
       "      <th>Cards</th>\n",
       "      <th>Debit card</th>\n",
       "      <th>Insurance</th>\n",
       "      <th>Age</th>\n",
       "      <th>Cibil Score</th>\n",
       "    </tr>\n",
       "  </thead>\n",
       "  <tbody>\n",
       "    <tr>\n",
       "      <th>0</th>\n",
       "      <td>0.0</td>\n",
       "      <td>1.0</td>\n",
       "      <td>0.0</td>\n",
       "      <td>50.0</td>\n",
       "      <td>34.940</td>\n",
       "    </tr>\n",
       "    <tr>\n",
       "      <th>1</th>\n",
       "      <td>1.0</td>\n",
       "      <td>0.0</td>\n",
       "      <td>0.0</td>\n",
       "      <td>18.0</td>\n",
       "      <td>0.891</td>\n",
       "    </tr>\n",
       "    <tr>\n",
       "      <th>2</th>\n",
       "      <td>0.0</td>\n",
       "      <td>1.0</td>\n",
       "      <td>0.0</td>\n",
       "      <td>5.0</td>\n",
       "      <td>0.330</td>\n",
       "    </tr>\n",
       "    <tr>\n",
       "      <th>3</th>\n",
       "      <td>0.0</td>\n",
       "      <td>1.0</td>\n",
       "      <td>1.0</td>\n",
       "      <td>31.0</td>\n",
       "      <td>0.037</td>\n",
       "    </tr>\n",
       "    <tr>\n",
       "      <th>4</th>\n",
       "      <td>0.0</td>\n",
       "      <td>1.0</td>\n",
       "      <td>0.0</td>\n",
       "      <td>30.0</td>\n",
       "      <td>0.038</td>\n",
       "    </tr>\n",
       "  </tbody>\n",
       "</table>\n",
       "</div>"
      ],
      "text/plain": [
       "   Cards  Debit card  Insurance   Age  Cibil Score\n",
       "0    0.0         1.0        0.0  50.0       34.940\n",
       "1    1.0         0.0        0.0  18.0        0.891\n",
       "2    0.0         1.0        0.0   5.0        0.330\n",
       "3    0.0         1.0        1.0  31.0        0.037\n",
       "4    0.0         1.0        0.0  30.0        0.038"
      ]
     },
     "execution_count": 15,
     "metadata": {},
     "output_type": "execute_result"
    }
   ],
   "source": [
    "X = data[['Cards', 'Debit card', 'Insurance', 'Age', 'Cibil Score']]\n",
    "X.head()"
   ]
  },
  {
   "cell_type": "code",
   "execution_count": 16,
   "id": "c96e3f2f",
   "metadata": {},
   "outputs": [
    {
     "data": {
      "text/plain": [
       "0    0\n",
       "1    1\n",
       "2    1\n",
       "3    0\n",
       "4    1\n",
       "Name: Loan offer, dtype: int64"
      ]
     },
     "execution_count": 16,
     "metadata": {},
     "output_type": "execute_result"
    }
   ],
   "source": [
    "Y = data[\"Loan offer\"]\n",
    "Y.head()"
   ]
  },
  {
   "cell_type": "code",
   "execution_count": 17,
   "id": "5767b90f",
   "metadata": {},
   "outputs": [],
   "source": [
    "#TRAIN TEST SPLIT\n",
    "from sklearn import linear_model\n",
    "from sklearn.model_selection import train_test_split\n",
    "from sklearn.linear_model import LogisticRegression"
   ]
  },
  {
   "cell_type": "code",
   "execution_count": 18,
   "id": "d5fc5ff1",
   "metadata": {},
   "outputs": [
    {
     "data": {
      "text/plain": [
       "(1072, 268, 1072, 268)"
      ]
     },
     "execution_count": 18,
     "metadata": {},
     "output_type": "execute_result"
    }
   ],
   "source": [
    "X_train,X_test,Y_train,Y_test = train_test_split(X,Y,test_size = 0.20,random_state=42)\n",
    "len(X_train),len(Y_test),len(Y_train),len(Y_test)"
   ]
  },
  {
   "cell_type": "code",
   "execution_count": 19,
   "id": "11f960a8",
   "metadata": {},
   "outputs": [
    {
     "data": {
      "text/plain": [
       "array([0, 0, 1, 1, 0, 0, 1, 1, 1, 0, 1, 1, 1, 1, 1, 0, 1, 1, 1, 0, 0, 0,\n",
       "       0, 0, 0, 1, 1, 1, 1, 1, 0, 1, 1, 1, 1, 1, 1, 0, 1, 0, 1, 1, 1, 1,\n",
       "       1, 0, 1, 0, 0, 1, 0, 1, 1, 1, 1, 0, 1, 1, 1, 1, 0, 0, 1, 0, 0, 1,\n",
       "       1, 0, 1, 1, 1, 0, 1, 1, 1, 0, 0, 1, 1, 1, 1, 1, 0, 1, 1, 0, 0, 0,\n",
       "       1, 1, 0, 1, 1, 0, 1, 1, 1, 0, 1, 0, 1, 1, 1, 1, 1, 0, 0, 0, 0, 1,\n",
       "       0, 1, 1, 1, 0, 1, 0, 0, 0, 0, 0, 1, 0, 1, 1, 1, 0, 1, 0, 0, 1, 1,\n",
       "       0, 1, 0, 0, 0, 1, 0, 1, 0, 1, 0, 1, 1, 1, 0, 0, 0, 0, 0, 1, 0, 1,\n",
       "       1, 0, 1, 0, 0, 0, 1, 1, 1, 0, 1, 1, 0, 0, 1, 0, 1, 0, 0, 1, 0, 1,\n",
       "       1, 1, 1, 0, 1, 0, 1, 0, 1, 0, 1, 1, 0, 0, 1, 1, 1, 1, 1, 0, 0, 0,\n",
       "       1, 1, 1, 0, 0, 1, 1, 0, 1, 1, 1, 0, 1, 0, 0, 1, 0, 1, 1, 1, 1, 1,\n",
       "       1, 0, 1, 1, 0, 1, 1, 1, 1, 0, 1, 1, 0, 0, 0, 0, 0, 0, 1, 1, 1, 1,\n",
       "       1, 1, 0, 1, 1, 1, 1, 0, 1, 0, 0, 1, 0, 1, 0, 1, 0, 0, 1, 0, 0, 1,\n",
       "       0, 0, 0, 1], dtype=int64)"
      ]
     },
     "execution_count": 19,
     "metadata": {},
     "output_type": "execute_result"
    }
   ],
   "source": [
    "#USING LINEAR MODEL\n",
    "#Define Logistic regression and fit the model\n",
    "Lreg = LogisticRegression()\n",
    "Lreg.fit(X_train,Y_train.ravel())\n",
    "\n",
    "Y_predict = Lreg.predict(X_test)\n",
    "Y_predict"
   ]
  },
  {
   "cell_type": "code",
   "execution_count": 20,
   "id": "ce5987a7",
   "metadata": {},
   "outputs": [
    {
     "data": {
      "text/plain": [
       "0.7425373134328358"
      ]
     },
     "execution_count": 20,
     "metadata": {},
     "output_type": "execute_result"
    }
   ],
   "source": [
    "Lreg.score(X_test,Y_test)"
   ]
  },
  {
   "cell_type": "code",
   "execution_count": 21,
   "id": "2436e735",
   "metadata": {},
   "outputs": [
    {
     "data": {
      "text/plain": [
       "0.7425373134328358"
      ]
     },
     "execution_count": 21,
     "metadata": {},
     "output_type": "execute_result"
    }
   ],
   "source": [
    "#checking accuracy\n",
    "from sklearn.metrics import accuracy_score\n",
    "from sklearn.metrics import confusion_matrix\n",
    "from sklearn.metrics import classification_report\n",
    "\n",
    "score = accuracy_score(Y_test,Y_predict)\n",
    "score"
   ]
  },
  {
   "cell_type": "code",
   "execution_count": 22,
   "id": "0792d980",
   "metadata": {},
   "outputs": [
    {
     "data": {
      "text/plain": [
       "array([[ 86,  42],\n",
       "       [ 27, 113]], dtype=int64)"
      ]
     },
     "execution_count": 22,
     "metadata": {},
     "output_type": "execute_result"
    }
   ],
   "source": [
    "confusion_matrix(Y_test,Y_predict)"
   ]
  },
  {
   "cell_type": "code",
   "execution_count": 23,
   "id": "31d2af65",
   "metadata": {},
   "outputs": [
    {
     "data": {
      "text/plain": [
       "(86, 42, 27, 113)"
      ]
     },
     "execution_count": 23,
     "metadata": {},
     "output_type": "execute_result"
    }
   ],
   "source": [
    "tp,fp,fn,tn = confusion_matrix(Y_test,Y_predict).ravel()\n",
    "tp,fp,fn,tn"
   ]
  },
  {
   "cell_type": "code",
   "execution_count": 24,
   "id": "96c033e5",
   "metadata": {},
   "outputs": [
    {
     "name": "stdout",
     "output_type": "stream",
     "text": [
      "              precision    recall  f1-score   support\n",
      "\n",
      "           0       0.76      0.67      0.71       128\n",
      "           1       0.73      0.81      0.77       140\n",
      "\n",
      "    accuracy                           0.74       268\n",
      "   macro avg       0.75      0.74      0.74       268\n",
      "weighted avg       0.74      0.74      0.74       268\n",
      "\n"
     ]
    }
   ],
   "source": [
    "print(classification_report(Y_test,Y_predict))\n",
    "#precision - TP\n",
    "#recall - TN\n",
    "#f1- avg of precision and recall"
   ]
  },
  {
   "cell_type": "code",
   "execution_count": 31,
   "id": "bc95eedf",
   "metadata": {},
   "outputs": [],
   "source": [
    "Accuracy = (tp+tn) / (tp+tn+fp+fn)\n",
    "specificity = tn / (tn+fp)\n",
    "sensitivity = tp / (tp+fn)\n",
    "recall = tp/(tp+fn)\n",
    "precision = tp/(tp+fp)"
   ]
  },
  {
   "cell_type": "code",
   "execution_count": 32,
   "id": "6f1ddaaf",
   "metadata": {},
   "outputs": [
    {
     "data": {
      "text/plain": [
       "(0.7425373134328358,\n",
       " 0.7290322580645161,\n",
       " 0.7610619469026548,\n",
       " 0.7610619469026548,\n",
       " 0.671875)"
      ]
     },
     "execution_count": 32,
     "metadata": {},
     "output_type": "execute_result"
    }
   ],
   "source": [
    "Accuracy,specificity,sensitivity,recall,precision"
   ]
  },
  {
   "cell_type": "code",
   "execution_count": 33,
   "id": "6694ddd1",
   "metadata": {},
   "outputs": [
    {
     "name": "stdout",
     "output_type": "stream",
     "text": [
      "Optimization terminated successfully.\n",
      "         Current function value: 0.587002\n",
      "         Iterations 7\n"
     ]
    },
    {
     "data": {
      "text/html": [
       "<table class=\"simpletable\">\n",
       "<caption>Logit Regression Results</caption>\n",
       "<tr>\n",
       "  <th>Dep. Variable:</th>   <td>      const  Cards  Debit card  Insurance   Age  Cibil Score\n",
       "0       1.0    0.0         1.0        0.0  50.0       34.940\n",
       "1       1.0    1.0         0.0        0.0  18.0        0.891\n",
       "2       1.0    0.0         1.0        0.0   5.0        0.330\n",
       "3       1.0    0.0         1.0        1.0  31.0        0.037\n",
       "4       1.0    0.0         1.0        0.0  30.0        0.038\n",
       "...     ...    ...         ...        ...   ...          ...\n",
       "1335    1.0    0.0         1.0        0.0  10.0        0.576\n",
       "1336    1.0    1.0         1.0        0.0  46.0        3.705\n",
       "1337    1.0    1.0         1.0        0.0  39.0        0.099\n",
       "1338    1.0    1.0         0.0        0.0   8.0        3.177\n",
       "1339    1.0    1.0         1.0        0.0  30.0        0.688\n",
       "\n",
       "[1340 rows x 6 columns]</td> <th>  No. Observations:  </th>  <td>  1072</td>  \n",
       "</tr>\n",
       "<tr>\n",
       "  <th>Model:</th>                                                                                                                                                                                                                                                                                                                                                                                                   <td>Logit</td>                                                                                                                                                                                                                                                                                                                                                                                        <th>  Df Residuals:      </th>  <td>  1067</td>  \n",
       "</tr>\n",
       "<tr>\n",
       "  <th>Method:</th>                                                                                                                                                                                                                                                                                                                                                                                                   <td>MLE</td>                                                                                                                                                                                                                                                                                                                                                                                         <th>  Df Model:          </th>  <td>     4</td>  \n",
       "</tr>\n",
       "<tr>\n",
       "  <th>Date:</th>                                                                                                                                                                                                                                                                                                                                                                                              <td>Fri, 19 Jan 2024</td>                                                                                                                                                                                                                                                                                                                                                                                   <th>  Pseudo R-squ.:     </th>  <td>0.1522</td>  \n",
       "</tr>\n",
       "<tr>\n",
       "  <th>Time:</th>                                                                                                                                                                                                                                                                                                                                                                                                  <td>19:55:14</td>                                                                                                                                                                                                                                                                                                                                                                                       <th>  Log-Likelihood:    </th> <td> -629.27</td> \n",
       "</tr>\n",
       "<tr>\n",
       "  <th>converged:</th>                                                                                                                                                                                                                                                                                                                                                                                               <td>True</td>                                                                                                                                                                                                                                                                                                                                                                                         <th>  LL-Null:           </th> <td> -742.23</td> \n",
       "</tr>\n",
       "<tr>\n",
       "  <th>Covariance Type:</th>                                                                                                                                                                                                                                                                                                                                                                                       <td>nonrobust</td>                                                                                                                                                                                                                                                                                                                                                                                      <th>  LLR p-value:       </th> <td>9.928e-48</td>\n",
       "</tr>\n",
       "</table>\n",
       "<table class=\"simpletable\">\n",
       "<tr>\n",
       "       <td></td>          <th>coef</th>     <th>std err</th>      <th>z</th>      <th>P>|z|</th>  <th>[0.025</th>    <th>0.975]</th>  \n",
       "</tr>\n",
       "<tr>\n",
       "  <th>Cards</th>       <td>    0.3922</td> <td>    0.134</td> <td>    2.926</td> <td> 0.003</td> <td>    0.129</td> <td>    0.655</td>\n",
       "</tr>\n",
       "<tr>\n",
       "  <th>Debit card</th>  <td>    0.4743</td> <td>    0.134</td> <td>    3.553</td> <td> 0.000</td> <td>    0.213</td> <td>    0.736</td>\n",
       "</tr>\n",
       "<tr>\n",
       "  <th>Insurance</th>   <td>   -0.9771</td> <td>    0.618</td> <td>   -1.582</td> <td> 0.114</td> <td>   -2.188</td> <td>    0.234</td>\n",
       "</tr>\n",
       "<tr>\n",
       "  <th>Age</th>         <td>    0.0062</td> <td>    0.003</td> <td>    1.872</td> <td> 0.061</td> <td>   -0.000</td> <td>    0.013</td>\n",
       "</tr>\n",
       "<tr>\n",
       "  <th>Cibil Score</th> <td>   -0.4065</td> <td>    0.036</td> <td>  -11.301</td> <td> 0.000</td> <td>   -0.477</td> <td>   -0.336</td>\n",
       "</tr>\n",
       "</table>"
      ],
      "text/latex": [
       "\\begin{center}\n",
       "\\begin{tabular}{lclc}\n",
       "\\toprule\n",
       "\\textbf{Dep. Variable:}   &       const  Cards  Debit card  Insurance   Age  Cibil Score\n",
       "0       1.0    0.0         1.0        0.0  50.0       34.940\n",
       "1       1.0    1.0         0.0        0.0  18.0        0.891\n",
       "2       1.0    0.0         1.0        0.0   5.0        0.330\n",
       "3       1.0    0.0         1.0        1.0  31.0        0.037\n",
       "4       1.0    0.0         1.0        0.0  30.0        0.038\n",
       "...     ...    ...         ...        ...   ...          ...\n",
       "1335    1.0    0.0         1.0        0.0  10.0        0.576\n",
       "1336    1.0    1.0         1.0        0.0  46.0        3.705\n",
       "1337    1.0    1.0         1.0        0.0  39.0        0.099\n",
       "1338    1.0    1.0         0.0        0.0   8.0        3.177\n",
       "1339    1.0    1.0         1.0        0.0  30.0        0.688\n",
       "\n",
       "[1340 rows x 6 columns] & \\textbf{  No. Observations:  } &     1072    \\\\\n",
       "\\textbf{Model:}           &                                                                                                                                                                                                                                                                                                                                                                                        Logit                                                                                                                                                                                                                                                                                                                                                                                         & \\textbf{  Df Residuals:      } &     1067    \\\\\n",
       "\\textbf{Method:}          &                                                                                                                                                                                                                                                                                                                                                                                         MLE                                                                                                                                                                                                                                                                                                                                                                                          & \\textbf{  Df Model:          } &        4    \\\\\n",
       "\\textbf{Date:}            &                                                                                                                                                                                                                                                                                                                                                                                   Fri, 19 Jan 2024                                                                                                                                                                                                                                                                                                                                                                                   & \\textbf{  Pseudo R-squ.:     } &   0.1522    \\\\\n",
       "\\textbf{Time:}            &                                                                                                                                                                                                                                                                                                                                                                                       19:55:14                                                                                                                                                                                                                                                                                                                                                                                       & \\textbf{  Log-Likelihood:    } &   -629.27   \\\\\n",
       "\\textbf{converged:}       &                                                                                                                                                                                                                                                                                                                                                                                         True                                                                                                                                                                                                                                                                                                                                                                                         & \\textbf{  LL-Null:           } &   -742.23   \\\\\n",
       "\\textbf{Covariance Type:} &                                                                                                                                                                                                                                                                                                                                                                                      nonrobust                                                                                                                                                                                                                                                                                                                                                                                       & \\textbf{  LLR p-value:       } & 9.928e-48   \\\\\n",
       "\\bottomrule\n",
       "\\end{tabular}\n",
       "\\begin{tabular}{lcccccc}\n",
       "                     & \\textbf{coef} & \\textbf{std err} & \\textbf{z} & \\textbf{P$> |$z$|$} & \\textbf{[0.025} & \\textbf{0.975]}  \\\\\n",
       "\\midrule\n",
       "\\textbf{Cards}       &       0.3922  &        0.134     &     2.926  &         0.003        &        0.129    &        0.655     \\\\\n",
       "\\textbf{Debit card}  &       0.4743  &        0.134     &     3.553  &         0.000        &        0.213    &        0.736     \\\\\n",
       "\\textbf{Insurance}   &      -0.9771  &        0.618     &    -1.582  &         0.114        &       -2.188    &        0.234     \\\\\n",
       "\\textbf{Age}         &       0.0062  &        0.003     &     1.872  &         0.061        &       -0.000    &        0.013     \\\\\n",
       "\\textbf{Cibil Score} &      -0.4065  &        0.036     &   -11.301  &         0.000        &       -0.477    &       -0.336     \\\\\n",
       "\\bottomrule\n",
       "\\end{tabular}\n",
       "%\\caption{Logit Regression Results}\n",
       "\\end{center}"
      ],
      "text/plain": [
       "<class 'statsmodels.iolib.summary.Summary'>\n",
       "\"\"\"\n",
       "                                                                                                                                                                                                                                                                                                                                                                                                            Logit Regression Results                                                                                                                                                                                                                                                                                                                                                                                                            \n",
       "================================================================================================================================================================================================================================================================================================================================================================================================================================================================================================================================================================================================================================================================================================================================================================================================================================================\n",
       "Dep. Variable:           const  Cards  Debit card  Insurance   Age  Cibil Score\n",
       "0       1.0    0.0         1.0        0.0  50.0       34.940\n",
       "1       1.0    1.0         0.0        0.0  18.0        0.891\n",
       "2       1.0    0.0         1.0        0.0   5.0        0.330\n",
       "3       1.0    0.0         1.0        1.0  31.0        0.037\n",
       "4       1.0    0.0         1.0        0.0  30.0        0.038\n",
       "...     ...    ...         ...        ...   ...          ...\n",
       "1335    1.0    0.0         1.0        0.0  10.0        0.576\n",
       "1336    1.0    1.0         1.0        0.0  46.0        3.705\n",
       "1337    1.0    1.0         1.0        0.0  39.0        0.099\n",
       "1338    1.0    1.0         0.0        0.0   8.0        3.177\n",
       "1339    1.0    1.0         1.0        0.0  30.0        0.688\n",
       "\n",
       "[1340 rows x 6 columns]   No. Observations:                 1072\n",
       "Model:                                                                                                                                                                                                                                                                                                                                                                                                                                                                                                                                                                                                                                                                                                                                                                                            Logit   Df Residuals:                     1067\n",
       "Method:                                                                                                                                                                                                                                                                                                                                                                                                                                                                                                                                                                                                                                                                                                                                                                                             MLE   Df Model:                            4\n",
       "Date:                                                                                                                                                                                                                                                                                                                                                                                                                                                                                                                                                                                                                                                                                                                                                                                  Fri, 19 Jan 2024   Pseudo R-squ.:                  0.1522\n",
       "Time:                                                                                                                                                                                                                                                                                                                                                                                                                                                                                                                                                                                                                                                                                                                                                                                          19:55:14   Log-Likelihood:                -629.27\n",
       "converged:                                                                                                                                                                                                                                                                                                                                                                                                                                                                                                                                                                                                                                                                                                                                                                                         True   LL-Null:                       -742.23\n",
       "Covariance Type:                                                                                                                                                                                                                                                                                                                                                                                                                                                                                                                                                                                                                                                                                                                                                                              nonrobust   LLR p-value:                 9.928e-48\n",
       "===============================================================================\n",
       "                  coef    std err          z      P>|z|      [0.025      0.975]\n",
       "-------------------------------------------------------------------------------\n",
       "Cards           0.3922      0.134      2.926      0.003       0.129       0.655\n",
       "Debit card      0.4743      0.134      3.553      0.000       0.213       0.736\n",
       "Insurance      -0.9771      0.618     -1.582      0.114      -2.188       0.234\n",
       "Age             0.0062      0.003      1.872      0.061      -0.000       0.013\n",
       "Cibil Score    -0.4065      0.036    -11.301      0.000      -0.477      -0.336\n",
       "===============================================================================\n",
       "\"\"\""
      ]
     },
     "execution_count": 33,
     "metadata": {},
     "output_type": "execute_result"
    }
   ],
   "source": [
    "import statsmodels.api as sm\n",
    "X = sm.add_constant(X)\n",
    "logit = sm.Logit(Y_train, X_train)\n",
    "result = logit.fit()\n",
    "(result.summary(X))"
   ]
  },
  {
   "cell_type": "code",
   "execution_count": 34,
   "id": "f5e6d521",
   "metadata": {},
   "outputs": [],
   "source": [
    "Y_pred_probs = result.predict(X_test)"
   ]
  },
  {
   "cell_type": "code",
   "execution_count": 35,
   "id": "3833008e",
   "metadata": {},
   "outputs": [
    {
     "data": {
      "image/png": "[encoded data removed]",
      "text/plain": [
       "<Figure size 640x480 with 1 Axes>"
      ]
     },
     "metadata": {},
     "output_type": "display_data"
    }
   ],
   "source": [
    "from sklearn.metrics import roc_curve\n",
    "from sklearn.metrics import roc_auc_score\n",
    "\n",
    "# Assuming Y is the true labels and classifier is your logistic regression model\n",
    "fpr, tpr, thresholds = roc_curve(Y_test, Y_pred_probs)\n",
    "\n",
    "# Calculate AUC using roc_auc_score\n",
    "auc = roc_auc_score(Y_test, Y_pred_probs)\n",
    "\n",
    "import matplotlib.pyplot as plt\n",
    "plt.plot(fpr, tpr, color='red', label='logit model (area = %0.2f)' % auc)\n",
    "plt.plot([0, 1], [0, 1], 'k--')\n",
    "plt.xlabel('False Positive Rate or [1 - True Negative Rate]')\n",
    "plt.ylabel('True Positive Rate')\n",
    "plt.title('Receiver Operating Characteristic (ROC) Curve')\n",
    "plt.legend(loc='lower right')\n",
    "plt.show()\n"
   ]
  },
  {
   "cell_type": "code",
   "execution_count": 43,
   "id": "ddfd4a29",
   "metadata": {},
   "outputs": [
    {
     "data": {
      "text/plain": [
       "0.7647042410714286"
      ]
     },
     "execution_count": 43,
     "metadata": {},
     "output_type": "execute_result"
    }
   ],
   "source": [
    "auc"
   ]
  }
 ],
 "metadata": {
  "kernelspec": {
   "display_name": "Python 3 (ipykernel)",
   "language": "python",
   "name": "python3"
  },
  "language_info": {
   "codemirror_mode": {
    "name": "ipython",
    "version": 3
   },
   "file_extension": ".py",
   "mimetype": "text/x-python",
   "name": "python",
   "nbconvert_exporter": "python",
   "pygments_lexer": "ipython3",
   "version": "3.11.5"
  }
 },
 "nbformat": 4,
 "nbformat_minor": 5
}
